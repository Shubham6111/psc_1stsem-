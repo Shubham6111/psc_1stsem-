{
 "cells": [
  {
   "cell_type": "code",
   "execution_count": 10,
   "id": "0f6604a3-fa24-453e-9549-6a2699b70737",
   "metadata": {},
   "outputs": [],
   "source": [
    "name= \"FardEEn ahMED\" "
   ]
  },
  {
   "cell_type": "code",
   "execution_count": 11,
   "id": "205f9bb2-e438-44fb-8a81-ad8cce1b97e4",
   "metadata": {},
   "outputs": [
    {
     "data": {
      "text/plain": [
       "'fARDeeN AHmed'"
      ]
     },
     "execution_count": 11,
     "metadata": {},
     "output_type": "execute_result"
    }
   ],
   "source": [
    "name.swapcase()"
   ]
  },
  {
   "cell_type": "code",
   "execution_count": 13,
   "id": "9bf69ed8-598c-4966-9833-130a484bd7ec",
   "metadata": {},
   "outputs": [
    {
     "data": {
      "text/plain": [
       "'F#a#r#d#E#E#n# #a#h#M#E#D'"
      ]
     },
     "execution_count": 13,
     "metadata": {},
     "output_type": "execute_result"
    }
   ],
   "source": [
    "'#'.join(name)"
   ]
  },
  {
   "cell_type": "code",
   "execution_count": 19,
   "id": "e486ccfa-7a52-4dcd-860f-c389b38aee99",
   "metadata": {},
   "outputs": [],
   "source": [
    "name1= \"TanushreeJadhav\""
   ]
  },
  {
   "cell_type": "code",
   "execution_count": 20,
   "id": "2a2c2ca7-d101-4ef3-8316-77e77264f9ee",
   "metadata": {},
   "outputs": [],
   "source": [
    "d = 45354"
   ]
  },
  {
   "cell_type": "code",
   "execution_count": 21,
   "id": "a5412abd-438a-46c3-8d30-9768923d3e87",
   "metadata": {},
   "outputs": [
    {
     "data": {
      "text/plain": [
       "True"
      ]
     },
     "execution_count": 21,
     "metadata": {},
     "output_type": "execute_result"
    }
   ],
   "source": [
    "d.is_integer()"
   ]
  },
  {
   "cell_type": "code",
   "execution_count": 22,
   "id": "57305866-f085-41f5-814a-89c0cabfd20b",
   "metadata": {},
   "outputs": [
    {
     "data": {
      "text/plain": [
       "True"
      ]
     },
     "execution_count": 22,
     "metadata": {},
     "output_type": "execute_result"
    }
   ],
   "source": [
    "name1.isalpha()"
   ]
  },
  {
   "cell_type": "code",
   "execution_count": 23,
   "id": "3d9a1c43-548b-4a4a-a225-bdda56b3a26e",
   "metadata": {},
   "outputs": [
    {
     "data": {
      "text/plain": [
       "True"
      ]
     },
     "execution_count": 23,
     "metadata": {},
     "output_type": "execute_result"
    }
   ],
   "source": [
    "name1.isalnum()"
   ]
  },
  {
   "cell_type": "code",
   "execution_count": 25,
   "id": "e7fe0926-8840-4cb5-a1f1-60b1009d055a",
   "metadata": {},
   "outputs": [
    {
     "data": {
      "text/plain": [
       "True"
      ]
     },
     "execution_count": 25,
     "metadata": {},
     "output_type": "execute_result"
    }
   ],
   "source": [
    "name1.startswith('T')"
   ]
  },
  {
   "cell_type": "code",
   "execution_count": 26,
   "id": "ab3e1a93-ed4f-4ea8-be1a-b97d52b08952",
   "metadata": {},
   "outputs": [
    {
     "data": {
      "text/plain": [
       "'TanushreeJadhav'"
      ]
     },
     "execution_count": 26,
     "metadata": {},
     "output_type": "execute_result"
    }
   ],
   "source": [
    "name1"
   ]
  },
  {
   "cell_type": "code",
   "execution_count": 27,
   "id": "68660f4a-bd6f-42a6-b176-19a5f7c82da7",
   "metadata": {},
   "outputs": [
    {
     "data": {
      "text/plain": [
       "'vahdaJeerhsunaT'"
      ]
     },
     "execution_count": 27,
     "metadata": {},
     "output_type": "execute_result"
    }
   ],
   "source": [
    "name1[::-1]"
   ]
  },
  {
   "cell_type": "code",
   "execution_count": null,
   "id": "a740cc24-18bd-4b9e-88c1-4a290a023ed5",
   "metadata": {},
   "outputs": [],
   "source": []
  }
 ],
 "metadata": {
  "kernelspec": {
   "display_name": "Python 3 (ipykernel)",
   "language": "python",
   "name": "python3"
  },
  "language_info": {
   "codemirror_mode": {
    "name": "ipython",
    "version": 3
   },
   "file_extension": ".py",
   "mimetype": "text/x-python",
   "name": "python",
   "nbconvert_exporter": "python",
   "pygments_lexer": "ipython3",
   "version": "3.12.4"
  }
 },
 "nbformat": 4,
 "nbformat_minor": 5
}
